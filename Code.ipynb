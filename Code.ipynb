{
 "cells": [
  {
   "cell_type": "code",
   "execution_count": 2,
   "id": "aa18c61f-1834-4f39-a430-fa42959408a8",
   "metadata": {},
   "outputs": [
    {
     "name": "stderr",
     "output_type": "stream",
     "text": [
      "/Users/weizhuoqun/Documents/ds projects/Lang2SQL/openai_api/lib/python3.9/site-packages/urllib3/__init__.py:35: NotOpenSSLWarning: urllib3 v2 only supports OpenSSL 1.1.1+, currently the 'ssl' module is compiled with 'LibreSSL 2.8.3'. See: https://github.com/urllib3/urllib3/issues/3020\n",
      "  warnings.warn(\n"
     ]
    }
   ],
   "source": [
    "import pandas as pd\n",
    "import duckdb\n",
    "import openai\n",
    "import time \n",
    "import os"
   ]
  },
  {
   "cell_type": "markdown",
   "id": "652f403a-20b8-4486-aeb8-17ddcec0598b",
   "metadata": {},
   "source": [
    "# Load in data"
   ]
  },
  {
   "cell_type": "markdown",
   "id": "b24d1d71-f961-4d6d-b696-6ac5cab7d2ae",
   "metadata": {},
   "source": [
    "We use the [Chicago crime dataset](https://data.cityofchicago.org/Public-Safety/Crimes-2001-to-Present/ijzp-q8t2/about_data) from 2021, 2022, and 2023"
   ]
  },
  {
   "cell_type": "code",
   "execution_count": 3,
   "id": "cd204c5c-00d8-461b-b6ff-96caa65d0421",
   "metadata": {},
   "outputs": [
    {
     "name": "stdout",
     "output_type": "stream",
     "text": [
      "['Crimes_-_2021_20240417.csv', 'Crimes_-_2022_20240417.csv', 'Crimes_-_2023_20240417.csv']\n"
     ]
    }
   ],
   "source": [
    "path = \"./data\"\n",
    "files = [x for x in os.listdir(path = path)]\n",
    "print(files)"
   ]
  },
  {
   "cell_type": "code",
   "execution_count": 4,
   "id": "89dd2d44-86b2-4b16-a6d7-b8a56a046a89",
   "metadata": {},
   "outputs": [
    {
     "data": {
      "text/html": [
       "<div>\n",
       "<style scoped>\n",
       "    .dataframe tbody tr th:only-of-type {\n",
       "        vertical-align: middle;\n",
       "    }\n",
       "\n",
       "    .dataframe tbody tr th {\n",
       "        vertical-align: top;\n",
       "    }\n",
       "\n",
       "    .dataframe thead th {\n",
       "        text-align: right;\n",
       "    }\n",
       "</style>\n",
       "<table border=\"1\" class=\"dataframe\">\n",
       "  <thead>\n",
       "    <tr style=\"text-align: right;\">\n",
       "      <th></th>\n",
       "      <th>ID</th>\n",
       "      <th>Case Number</th>\n",
       "      <th>Date</th>\n",
       "      <th>Block</th>\n",
       "      <th>IUCR</th>\n",
       "      <th>Primary Type</th>\n",
       "      <th>Description</th>\n",
       "      <th>Location Description</th>\n",
       "      <th>Arrest</th>\n",
       "      <th>Domestic</th>\n",
       "      <th>...</th>\n",
       "      <th>Ward</th>\n",
       "      <th>Community Area</th>\n",
       "      <th>FBI Code</th>\n",
       "      <th>X Coordinate</th>\n",
       "      <th>Y Coordinate</th>\n",
       "      <th>Year</th>\n",
       "      <th>Updated On</th>\n",
       "      <th>Latitude</th>\n",
       "      <th>Longitude</th>\n",
       "      <th>Location</th>\n",
       "    </tr>\n",
       "  </thead>\n",
       "  <tbody>\n",
       "    <tr>\n",
       "      <th>0</th>\n",
       "      <td>25953</td>\n",
       "      <td>JE240540</td>\n",
       "      <td>05/24/2021 03:06:00 PM</td>\n",
       "      <td>020XX N LARAMIE AVE</td>\n",
       "      <td>0110</td>\n",
       "      <td>HOMICIDE</td>\n",
       "      <td>FIRST DEGREE MURDER</td>\n",
       "      <td>STREET</td>\n",
       "      <td>True</td>\n",
       "      <td>False</td>\n",
       "      <td>...</td>\n",
       "      <td>36.0</td>\n",
       "      <td>19</td>\n",
       "      <td>01A</td>\n",
       "      <td>1141387.0</td>\n",
       "      <td>1913179.0</td>\n",
       "      <td>2021</td>\n",
       "      <td>11/18/2023 03:39:49 PM</td>\n",
       "      <td>41.917838</td>\n",
       "      <td>-87.755969</td>\n",
       "      <td>(41.917838056, -87.755968972)</td>\n",
       "    </tr>\n",
       "    <tr>\n",
       "      <th>1</th>\n",
       "      <td>26038</td>\n",
       "      <td>JE279849</td>\n",
       "      <td>06/26/2021 09:24:00 AM</td>\n",
       "      <td>062XX N MC CORMICK RD</td>\n",
       "      <td>0110</td>\n",
       "      <td>HOMICIDE</td>\n",
       "      <td>FIRST DEGREE MURDER</td>\n",
       "      <td>PARKING LOT</td>\n",
       "      <td>True</td>\n",
       "      <td>False</td>\n",
       "      <td>...</td>\n",
       "      <td>50.0</td>\n",
       "      <td>13</td>\n",
       "      <td>01A</td>\n",
       "      <td>1152781.0</td>\n",
       "      <td>1941458.0</td>\n",
       "      <td>2021</td>\n",
       "      <td>11/18/2023 03:39:49 PM</td>\n",
       "      <td>41.995219</td>\n",
       "      <td>-87.713355</td>\n",
       "      <td>(41.995219444, -87.713354912)</td>\n",
       "    </tr>\n",
       "    <tr>\n",
       "      <th>2</th>\n",
       "      <td>12342615</td>\n",
       "      <td>JE202211</td>\n",
       "      <td>04/17/2021 03:20:00 PM</td>\n",
       "      <td>081XX S PRAIRIE AVE</td>\n",
       "      <td>0325</td>\n",
       "      <td>ROBBERY</td>\n",
       "      <td>VEHICULAR HIJACKING</td>\n",
       "      <td>RESIDENCE</td>\n",
       "      <td>True</td>\n",
       "      <td>False</td>\n",
       "      <td>...</td>\n",
       "      <td>6.0</td>\n",
       "      <td>44</td>\n",
       "      <td>03</td>\n",
       "      <td>1179448.0</td>\n",
       "      <td>1851073.0</td>\n",
       "      <td>2021</td>\n",
       "      <td>09/14/2023 03:41:59 PM</td>\n",
       "      <td>41.746626</td>\n",
       "      <td>-87.618032</td>\n",
       "      <td>(41.746626309, -87.618031954)</td>\n",
       "    </tr>\n",
       "    <tr>\n",
       "      <th>3</th>\n",
       "      <td>26262</td>\n",
       "      <td>JE366265</td>\n",
       "      <td>09/08/2021 04:45:00 PM</td>\n",
       "      <td>047XX W HARRISON ST</td>\n",
       "      <td>0110</td>\n",
       "      <td>HOMICIDE</td>\n",
       "      <td>FIRST DEGREE MURDER</td>\n",
       "      <td>CAR WASH</td>\n",
       "      <td>True</td>\n",
       "      <td>False</td>\n",
       "      <td>...</td>\n",
       "      <td>24.0</td>\n",
       "      <td>25</td>\n",
       "      <td>01A</td>\n",
       "      <td>1144907.0</td>\n",
       "      <td>1896933.0</td>\n",
       "      <td>2021</td>\n",
       "      <td>09/14/2023 03:41:59 PM</td>\n",
       "      <td>41.873191</td>\n",
       "      <td>-87.743447</td>\n",
       "      <td>(41.873191445, -87.743446563)</td>\n",
       "    </tr>\n",
       "    <tr>\n",
       "      <th>4</th>\n",
       "      <td>13209581</td>\n",
       "      <td>JG422927</td>\n",
       "      <td>08/01/2021 12:00:00 AM</td>\n",
       "      <td>012XX E 78TH ST</td>\n",
       "      <td>1563</td>\n",
       "      <td>SEX OFFENSE</td>\n",
       "      <td>CRIMINAL SEXUAL ABUSE</td>\n",
       "      <td>APARTMENT</td>\n",
       "      <td>False</td>\n",
       "      <td>False</td>\n",
       "      <td>...</td>\n",
       "      <td>8.0</td>\n",
       "      <td>45</td>\n",
       "      <td>17</td>\n",
       "      <td>NaN</td>\n",
       "      <td>NaN</td>\n",
       "      <td>2021</td>\n",
       "      <td>09/14/2023 03:43:09 PM</td>\n",
       "      <td>NaN</td>\n",
       "      <td>NaN</td>\n",
       "      <td>NaN</td>\n",
       "    </tr>\n",
       "  </tbody>\n",
       "</table>\n",
       "<p>5 rows × 22 columns</p>\n",
       "</div>"
      ],
      "text/plain": [
       "         ID Case Number                    Date                  Block  IUCR   \n",
       "0     25953    JE240540  05/24/2021 03:06:00 PM    020XX N LARAMIE AVE  0110  \\\n",
       "1     26038    JE279849  06/26/2021 09:24:00 AM  062XX N MC CORMICK RD  0110   \n",
       "2  12342615    JE202211  04/17/2021 03:20:00 PM    081XX S PRAIRIE AVE  0325   \n",
       "3     26262    JE366265  09/08/2021 04:45:00 PM    047XX W HARRISON ST  0110   \n",
       "4  13209581    JG422927  08/01/2021 12:00:00 AM        012XX E 78TH ST  1563   \n",
       "\n",
       "  Primary Type            Description Location Description  Arrest  Domestic   \n",
       "0     HOMICIDE    FIRST DEGREE MURDER               STREET    True     False  \\\n",
       "1     HOMICIDE    FIRST DEGREE MURDER          PARKING LOT    True     False   \n",
       "2      ROBBERY    VEHICULAR HIJACKING            RESIDENCE    True     False   \n",
       "3     HOMICIDE    FIRST DEGREE MURDER             CAR WASH    True     False   \n",
       "4  SEX OFFENSE  CRIMINAL SEXUAL ABUSE            APARTMENT   False     False   \n",
       "\n",
       "   ...  Ward  Community Area  FBI Code  X Coordinate Y Coordinate  Year   \n",
       "0  ...  36.0              19       01A     1141387.0    1913179.0  2021  \\\n",
       "1  ...  50.0              13       01A     1152781.0    1941458.0  2021   \n",
       "2  ...   6.0              44        03     1179448.0    1851073.0  2021   \n",
       "3  ...  24.0              25       01A     1144907.0    1896933.0  2021   \n",
       "4  ...   8.0              45        17           NaN          NaN  2021   \n",
       "\n",
       "               Updated On   Latitude  Longitude                       Location  \n",
       "0  11/18/2023 03:39:49 PM  41.917838 -87.755969  (41.917838056, -87.755968972)  \n",
       "1  11/18/2023 03:39:49 PM  41.995219 -87.713355  (41.995219444, -87.713354912)  \n",
       "2  09/14/2023 03:41:59 PM  41.746626 -87.618032  (41.746626309, -87.618031954)  \n",
       "3  09/14/2023 03:41:59 PM  41.873191 -87.743447  (41.873191445, -87.743446563)  \n",
       "4  09/14/2023 03:43:09 PM        NaN        NaN                            NaN  \n",
       "\n",
       "[5 rows x 22 columns]"
      ]
     },
     "execution_count": 4,
     "metadata": {},
     "output_type": "execute_result"
    }
   ],
   "source": [
    "# read in and concat data \n",
    "chicago_crime = pd.concat((pd.read_csv(path +\"/\" + f) for f in files), ignore_index=True)\n",
    "\n",
    "# chicago_crime.shape #(709386, 22)\n",
    "chicago_crime.head()"
   ]
  },
  {
   "cell_type": "markdown",
   "id": "53057ff3-8954-47ed-9392-8dc20c52646e",
   "metadata": {},
   "source": [
    "# Prompt Engineering"
   ]
  },
  {
   "cell_type": "markdown",
   "id": "af6bbeed-c67d-45fc-803d-1692ce34c5cf",
   "metadata": {},
   "source": [
    "The OpenAI API documentation provides a [recommendation](https://platform.openai.com/examples/default-sql-translate) for how to set the system and user components in a prompt when requesting to generate an SQL code:  \n",
    "For context, \n",
    "* `system` is the context, e.g. \"Given the following SQL tables, your job is to write queries given a user’s request.\"  \n",
    "```\n",
    "CREATE TABLE Orders (\n",
    "  OrderID int,\n",
    "  CustomerID int,\n",
    "  OrderDate datetime,\n",
    "  OrderTime varchar(8),\n",
    "  PRIMARY KEY (OrderID)\n",
    ");\n",
    "...\n",
    "```\n",
    "* `user` is the request, e.g. \"Write a SQL query which computes the average total order value for all orders on 2023-04-01.\""
   ]
  },
  {
   "cell_type": "markdown",
   "id": "876c3c05-2dbc-4098-87e5-87e57660c236",
   "metadata": {},
   "source": [
    "### Step 1: Create a function `prompt_generator(table_name, query)` that generates the system and user prompts like the example above.\n",
    "* Parameters:\n",
    "1. table name\n",
    "2. user query request\n",
    "* Output:\n",
    "completed system and user prompt messages"
   ]
  },
  {
   "cell_type": "markdown",
   "id": "b0c866da-8f45-4070-b20f-9b2acc8b8e5c",
   "metadata": {},
   "source": [
    "Use the `DuckDB` library to handle the pandas' df as it was a SQL table and extract its column names and types. "
   ]
  },
  {
   "cell_type": "code",
   "execution_count": 5,
   "id": "a17026de-0476-4587-a4d6-2c91b86a35a9",
   "metadata": {},
   "outputs": [
    {
     "data": {
      "text/plain": [
       "┌──────────────────────┬─────────────┬─────────┬─────────┬─────────┬─────────┐\n",
       "│     column_name      │ column_type │  null   │   key   │ default │  extra  │\n",
       "│       varchar        │   varchar   │ varchar │ varchar │ varchar │ varchar │\n",
       "├──────────────────────┼─────────────┼─────────┼─────────┼─────────┼─────────┤\n",
       "│ ID                   │ BIGINT      │ YES     │ NULL    │ NULL    │ NULL    │\n",
       "│ Case Number          │ VARCHAR     │ YES     │ NULL    │ NULL    │ NULL    │\n",
       "│ Date                 │ VARCHAR     │ YES     │ NULL    │ NULL    │ NULL    │\n",
       "│ Block                │ VARCHAR     │ YES     │ NULL    │ NULL    │ NULL    │\n",
       "│ IUCR                 │ VARCHAR     │ YES     │ NULL    │ NULL    │ NULL    │\n",
       "│ Primary Type         │ VARCHAR     │ YES     │ NULL    │ NULL    │ NULL    │\n",
       "│ Description          │ VARCHAR     │ YES     │ NULL    │ NULL    │ NULL    │\n",
       "│ Location Description │ VARCHAR     │ YES     │ NULL    │ NULL    │ NULL    │\n",
       "│ Arrest               │ BOOLEAN     │ YES     │ NULL    │ NULL    │ NULL    │\n",
       "│ Domestic             │ BOOLEAN     │ YES     │ NULL    │ NULL    │ NULL    │\n",
       "│ Beat                 │ BIGINT      │ YES     │ NULL    │ NULL    │ NULL    │\n",
       "│ District             │ BIGINT      │ YES     │ NULL    │ NULL    │ NULL    │\n",
       "│ Ward                 │ DOUBLE      │ YES     │ NULL    │ NULL    │ NULL    │\n",
       "│ Community Area       │ BIGINT      │ YES     │ NULL    │ NULL    │ NULL    │\n",
       "│ FBI Code             │ VARCHAR     │ YES     │ NULL    │ NULL    │ NULL    │\n",
       "│ X Coordinate         │ DOUBLE      │ YES     │ NULL    │ NULL    │ NULL    │\n",
       "│ Y Coordinate         │ DOUBLE      │ YES     │ NULL    │ NULL    │ NULL    │\n",
       "│ Year                 │ BIGINT      │ YES     │ NULL    │ NULL    │ NULL    │\n",
       "│ Updated On           │ VARCHAR     │ YES     │ NULL    │ NULL    │ NULL    │\n",
       "│ Latitude             │ DOUBLE      │ YES     │ NULL    │ NULL    │ NULL    │\n",
       "│ Longitude            │ DOUBLE      │ YES     │ NULL    │ NULL    │ NULL    │\n",
       "│ Location             │ VARCHAR     │ YES     │ NULL    │ NULL    │ NULL    │\n",
       "├──────────────────────┴─────────────┴─────────┴─────────┴─────────┴─────────┤\n",
       "│ 22 rows                                                          6 columns │\n",
       "└────────────────────────────────────────────────────────────────────────────┘"
      ]
     },
     "execution_count": 5,
     "metadata": {},
     "output_type": "execute_result"
    }
   ],
   "source": [
    "# Extract info\n",
    "duckdb.sql(\"DESCRIBE SELECT * FROM chicago_crime\")"
   ]
  },
  {
   "cell_type": "code",
   "execution_count": 113,
   "id": "92b24ef8-b07d-420f-a684-6a83a6ffea2a",
   "metadata": {},
   "outputs": [],
   "source": [
    "def prompt_generator(table_name, user_query):\n",
    "\n",
    "    class message:\n",
    "        def __init__(message, context, user, column_name):\n",
    "            message.context = context\n",
    "            message.user = user\n",
    "            message.column_names = column_name_list\n",
    "    \n",
    "    # Parse the table to extract the first two columns & create a string\n",
    "    table_des = duckdb.sql(\"DESCRIBE SELECT * FROM chicago_crime\")\n",
    "    column_name_list = []\n",
    "    column_name_type_list = []\n",
    "    for i in range(len(table_des.df().column_name)):\n",
    "        column_name = table_des.df().column_name[i]\n",
    "        column_type = table_des.df().column_type[i]\n",
    "        column_name_type = column_name + ' ' + column_type\n",
    "        column_name_type_list.append(column_name_type)\n",
    "        column_name_list.append(column_name)\n",
    "\n",
    "    column_name_type_string = str(column_name_type_list).replace('[','(').replace(']',')').replace(\"\\'\", \"\")\n",
    "\n",
    "    # create context and user string\n",
    "    context = \"\"\"\n",
    "    Given the following SQL tables, your job is to write queries given a user’s request.\n",
    "    CREATE TABLE {} {} \\n\n",
    "    \"\"\".format(table_name, column_name_type_string) \n",
    "    user = \"Write a SQL query that returns {}\".format(user_query)\n",
    "    \n",
    "    prompt = message(context = context, user = user, column_name = column_name)\n",
    "\n",
    "    return prompt"
   ]
  },
  {
   "cell_type": "code",
   "execution_count": 16,
   "id": "e4ca5c9b-301e-4687-8937-0398009e5b17",
   "metadata": {},
   "outputs": [
    {
     "name": "stdout",
     "output_type": "stream",
     "text": [
      "\n",
      "    Given the following SQL tables, your job is to write queries given a user’s request.\n",
      "    CREATE TABLE chicago_crime (ID BIGINT, Case Number VARCHAR, Date VARCHAR, Block VARCHAR, IUCR VARCHAR, Primary Type VARCHAR, Description VARCHAR, Location Description VARCHAR, Arrest BOOLEAN, Domestic BOOLEAN, Beat BIGINT, District BIGINT, Ward DOUBLE, Community Area BIGINT, FBI Code VARCHAR, X Coordinate DOUBLE, Y Coordinate DOUBLE, Year BIGINT, Updated On VARCHAR, Latitude DOUBLE, Longitude DOUBLE, Location VARCHAR) \n",
      "\n",
      "    \n",
      "Write a SQL query that returns the number of cases in each year, order by year in the ascending order.\n"
     ]
    }
   ],
   "source": [
    "table_name = \"chicago_crime\"\n",
    "user_query = \"the number of cases in each year, order by year in the ascending order.\"\n",
    "\n",
    "print(prompt_generator(table_name, user_query).context)\n",
    "print(prompt_generator(table_name, user_query).user)"
   ]
  },
  {
   "cell_type": "markdown",
   "id": "0b6085e0-38b6-460e-9925-1d393f886fd6",
   "metadata": {},
   "source": [
    "The output of the prompt_generator function was designed to fit the OpenAI API ChatCompletion.create function arguments, which we will review in the next section."
   ]
  },
  {
   "cell_type": "markdown",
   "id": "bc3030ab-ff9f-45b6-b22c-feb5b6ec3af4",
   "metadata": {},
   "source": [
    "## Step2: Interact with the OpenAI API"
   ]
  },
  {
   "cell_type": "markdown",
   "id": "963373e2-2474-4f92-b4ab-7adad8ffc6e7",
   "metadata": {},
   "source": [
    "The [openai](https://github.com/openai/openai-python) library enables access to the OpenAI REST API. We will use the library to connect to the API and send GET requests with our prompt."
   ]
  },
  {
   "cell_type": "markdown",
   "id": "570aba70-f46c-476f-b72c-5267f7b0d126",
   "metadata": {},
   "source": [
    "a) Connecting to the API"
   ]
  },
  {
   "cell_type": "code",
   "execution_count": 25,
   "id": "7b61f8a4-d90a-4704-9124-edd093f9f4b1",
   "metadata": {},
   "outputs": [],
   "source": [
    "openai.api_key = \"sk-proj-iTkXmrdYl4TAxAonBFaBT3BlbkFJ0qqU4tDjKNTSIkWtsiVS\""
   ]
  },
  {
   "cell_type": "code",
   "execution_count": 26,
   "id": "9b99c847-bc93-4a62-b147-e6adf66d0020",
   "metadata": {},
   "outputs": [
    {
     "data": {
      "text/plain": [
       "<bound method NDFrame.head of                              id object     created         owned_by\n",
       "0                     whisper-1  model  1677532384  openai-internal\n",
       "1                   davinci-002  model  1692634301           system\n",
       "2                      dall-e-2  model  1698798177           system\n",
       "3                 gpt-3.5-turbo  model  1677610602           openai\n",
       "4                 tts-1-hd-1106  model  1699053533           system\n",
       "5                      tts-1-hd  model  1699046015           system\n",
       "6            gpt-3.5-turbo-0125  model  1706048358           system\n",
       "7             gpt-3.5-turbo-16k  model  1683758102  openai-internal\n",
       "8        gpt-3.5-turbo-16k-0613  model  1685474247           openai\n",
       "9                         tts-1  model  1681940951  openai-internal\n",
       "10                     dall-e-3  model  1698785189           system\n",
       "11           gpt-3.5-turbo-0613  model  1686587434           openai\n",
       "12           gpt-3.5-turbo-0301  model  1677649963           openai\n",
       "13  gpt-3.5-turbo-instruct-0914  model  1694122472           system\n",
       "14                  babbage-002  model  1692634615           system\n",
       "15       gpt-3.5-turbo-instruct  model  1692901427           system\n",
       "16                   tts-1-1106  model  1699053241           system\n",
       "17       text-embedding-3-large  model  1705953180           system\n",
       "18       text-embedding-3-small  model  1705948997           system\n",
       "19       text-embedding-ada-002  model  1671217299  openai-internal\n",
       "20           gpt-3.5-turbo-1106  model  1698959748           system>"
      ]
     },
     "execution_count": 26,
     "metadata": {},
     "output_type": "execute_result"
    }
   ],
   "source": [
    "# all available LLMs\n",
    "openai_api_models = pd.DataFrame(openai.Model.list()[\"data\"])\n",
    "\n",
    "openai_api_models.head"
   ]
  },
  {
   "cell_type": "markdown",
   "id": "44d641de-5709-44f4-a18c-14cae37a45d0",
   "metadata": {},
   "source": [
    "For text generation, we use `gpt-3.5-turbo` model which is a series of models that keep getting updated. By default, if the model version is not specified, the API will point out to the most recent stable release. GPT-3.5 Turbo models can understand and generate natural language or code and have been optimized for chat using the Chat Completions API but work well for non-chat tasks as well."
   ]
  },
  {
   "cell_type": "markdown",
   "id": "8344bc98-b80d-4142-b491-e59c417ceb64",
   "metadata": {},
   "source": [
    "To send a `GET` request with our prompt, we will use the `ChatCompletion.create` function. The function has many arguments, and we will use the following ones:\n",
    "\n",
    "- `model` - The model ID to use, a full list available [here](https://platform.openai.com/docs/models/gpt-3-5-turbo)\n",
    "- `messages` - A list of messages containing the prompt\n",
    "- `temperature` - Manage the randomness or determinism of the process output by setting the sampling temperature level. The temperature level accepts values between 0 and 2. When the argument value is higher, the output becomes more random. Conversely, when the argument value is closer to 0, the output becomes more deterministic (reproducible)\n",
    "- `max_tokens` - The maximum number of tokens to generate in the completion\n",
    "  \n",
    "The full list of the function arguments available on the API documentaiton."
   ]
  },
  {
   "cell_type": "markdown",
   "id": "b07037e4-ec6d-449c-9328-db941b6d28a1",
   "metadata": {},
   "source": [
    "b) Create prompt using the `prompt_generator` function "
   ]
  },
  {
   "cell_type": "code",
   "execution_count": 114,
   "id": "ac3a9c09-2929-459e-b161-f8632cb79f26",
   "metadata": {},
   "outputs": [
    {
     "name": "stdout",
     "output_type": "stream",
     "text": [
      "\n",
      "    Given the following SQL tables, your job is to write queries given a user’s request.\n",
      "    CREATE TABLE chicago_crime (ID BIGINT, Case Number VARCHAR, Date VARCHAR, Block VARCHAR, IUCR VARCHAR, Primary Type VARCHAR, Description VARCHAR, Location Description VARCHAR, Arrest BOOLEAN, Domestic BOOLEAN, Beat BIGINT, District BIGINT, Ward DOUBLE, Community Area BIGINT, FBI Code VARCHAR, X Coordinate DOUBLE, Y Coordinate DOUBLE, Year BIGINT, Updated On VARCHAR, Latitude DOUBLE, Longitude DOUBLE, Location VARCHAR) \n",
      "\n",
      "    \n",
      "Write a SQL query that returns the average number of cases in each year and the year-over-year percentage of the number of cases, order by year in the ascending order.\n"
     ]
    }
   ],
   "source": [
    "query = \"the average number of cases in each year and the year-over-year percentage of the number of cases, order by year in the ascending order.\"\n",
    "prompt = prompt_generator(table_name = \"chicago_crime\", user_query = query)\n",
    "print(prompt.context)\n",
    "print(prompt.user)\n"
   ]
  },
  {
   "cell_type": "markdown",
   "id": "cbdf5dee-4503-43bc-b69d-7da57b507b43",
   "metadata": {},
   "source": [
    "c) Transform the above prompt into the structure of the `ChatCompletion.create` function messages argument:"
   ]
  },
  {
   "cell_type": "code",
   "execution_count": 71,
   "id": "c13003f8-06b8-4f1e-af7f-5ba8ed1c0c47",
   "metadata": {},
   "outputs": [],
   "source": [
    "message = [\n",
    "    {\n",
    "      \"role\": \"system\",\n",
    "      \"content\": prompt.context\n",
    "    },\n",
    "    {\n",
    "      \"role\": \"user\",\n",
    "      \"content\": prompt.user\n",
    "    }\n",
    "    ]"
   ]
  },
  {
   "cell_type": "markdown",
   "id": "37870db1-2f03-47cd-a7cb-3df2698523f8",
   "metadata": {},
   "source": [
    "d) Send the prompt (i.e., the `message` object) to the API using the `ChatCompletion.create` function"
   ]
  },
  {
   "cell_type": "code",
   "execution_count": 96,
   "id": "f22b61ec-ce99-4628-bb57-cfed1d056c87",
   "metadata": {},
   "outputs": [],
   "source": [
    "response = openai.ChatCompletion.create(\n",
    "    model = \"gpt-3.5-turbo\",\n",
    "    messages = message,\n",
    "    temperature = 0, \n",
    "    max_tokens = 256\n",
    ")"
   ]
  },
  {
   "cell_type": "markdown",
   "id": "7c39f9aa-2efc-4b58-9ebc-9d54f978a80d",
   "metadata": {},
   "source": [
    "We will set the temperature argument to 0 to ensure high reproducibility and limit the number of tokens in the text completion to 256. The function returns a JSON object with the text completion, metadata, and other information:"
   ]
  },
  {
   "cell_type": "code",
   "execution_count": 73,
   "id": "9d9d28cf-8abe-4f1e-a352-36e60ad7be0a",
   "metadata": {},
   "outputs": [
    {
     "name": "stdout",
     "output_type": "stream",
     "text": [
      "{\n",
      "  \"id\": \"chatcmpl-9F9XGBgpFXw5QDT5vfwcq7mTDOT7h\",\n",
      "  \"object\": \"chat.completion\",\n",
      "  \"created\": 1713398602,\n",
      "  \"model\": \"gpt-3.5-turbo-0125\",\n",
      "  \"choices\": [\n",
      "    {\n",
      "      \"index\": 0,\n",
      "      \"message\": {\n",
      "        \"role\": \"assistant\",\n",
      "        \"content\": \"```sql\\nSELECT \\n    Year,\\n    AVG(CASES) AS Avg_Cases,\\n    ROUND((AVG(CASES) - LAG(AVG(CASES), 1) OVER (ORDER BY Year)) / LAG(AVG(CASES), 1) OVER (ORDER BY Year) * 100, 2) AS YoY_Percentage\\nFROM\\n    (SELECT \\n        Year,\\n        COUNT(*) AS CASES\\n    FROM \\n        chicago_crime\\n    GROUP BY \\n        Year) subquery\\nGROUP BY \\n    Year\\nORDER BY \\n    Year ASC;\\n```\"\n",
      "      },\n",
      "      \"logprobs\": null,\n",
      "      \"finish_reason\": \"stop\"\n",
      "    }\n",
      "  ],\n",
      "  \"usage\": {\n",
      "    \"prompt_tokens\": 155,\n",
      "    \"completion_tokens\": 125,\n",
      "    \"total_tokens\": 280\n",
      "  },\n",
      "  \"system_fingerprint\": \"fp_c2295e73ad\"\n",
      "}\n"
     ]
    }
   ],
   "source": [
    "print(response)"
   ]
  },
  {
   "cell_type": "markdown",
   "id": "fbf6e5e4-7514-41f6-9bf7-949ea945ba47",
   "metadata": {},
   "source": [
    "e) Extract SQL query from the response variable"
   ]
  },
  {
   "cell_type": "code",
   "execution_count": 97,
   "id": "848e207d-56bc-4260-9d32-b560b76bd169",
   "metadata": {},
   "outputs": [
    {
     "name": "stdout",
     "output_type": "stream",
     "text": [
      "```sql\n",
      "SELECT \n",
      "    Year,\n",
      "    AVG(CASES) AS Avg_Cases,\n",
      "    ROUND((AVG(CASES) / LAG(AVG(CASES), 1) OVER (ORDER BY Year) - 1) * 100, 2) AS YoY_Percentage\n",
      "FROM\n",
      "    (SELECT \n",
      "        Year,\n",
      "        COUNT(DISTINCT Case_Number) AS CASES\n",
      "    FROM \n",
      "        chicago_crime\n",
      "    GROUP BY \n",
      "        Year) subquery\n",
      "GROUP BY \n",
      "    Year\n",
      "ORDER BY \n",
      "    Year ASC;\n",
      "```\n"
     ]
    }
   ],
   "source": [
    "sql = response[\"choices\"][0][\"message\"][\"content\"]\n",
    "\n",
    "print(sql)"
   ]
  },
  {
   "cell_type": "markdown",
   "id": "31072499-7e26-48e5-b931-bb21772844e6",
   "metadata": {},
   "source": [
    "Looks correct!! "
   ]
  },
  {
   "cell_type": "markdown",
   "id": "9e7e7d6e-d58e-4fd1-9f42-10689df0372a",
   "metadata": {},
   "source": [
    "f) Using the duckdb.sql function to run the SQL code:"
   ]
  },
  {
   "cell_type": "code",
   "execution_count": 98,
   "id": "de91ea82-9269-457e-88bd-9cb96ea10564",
   "metadata": {},
   "outputs": [
    {
     "ename": "BinderException",
     "evalue": "Binder Error: Referenced column \"Case_Number\" not found in FROM clause!\nCandidate bindings: \"chicago_crime.Case Number\"",
     "output_type": "error",
     "traceback": [
      "\u001b[0;31m---------------------------------------------------------------------------\u001b[0m",
      "\u001b[0;31mBinderException\u001b[0m                           Traceback (most recent call last)",
      "Cell \u001b[0;32mIn[98], line 1\u001b[0m\n\u001b[0;32m----> 1\u001b[0m \u001b[43mduckdb\u001b[49m\u001b[38;5;241;43m.\u001b[39;49m\u001b[43msql\u001b[49m\u001b[43m(\u001b[49m\u001b[43msql\u001b[49m\u001b[43m[\u001b[49m\u001b[38;5;241;43m6\u001b[39;49m\u001b[43m:\u001b[49m\u001b[38;5;241;43m-\u001b[39;49m\u001b[38;5;241;43m3\u001b[39;49m\u001b[43m]\u001b[49m\u001b[43m)\u001b[49m\u001b[38;5;241m.\u001b[39mshow()\n",
      "\u001b[0;31mBinderException\u001b[0m: Binder Error: Referenced column \"Case_Number\" not found in FROM clause!\nCandidate bindings: \"chicago_crime.Case Number\""
     ]
    }
   ],
   "source": [
    "duckdb.sql(sql[6:-3]).show()"
   ]
  },
  {
   "cell_type": "markdown",
   "id": "b33d30fe-aa69-4aef-afc9-bea9e050cab0",
   "metadata": {},
   "source": [
    "# Put all the code together"
   ]
  },
  {
   "cell_type": "markdown",
   "id": "7bd0a4cd-6459-4ddf-87e4-39337765ec42",
   "metadata": {},
   "source": [
    "One thing to note about the returned SQL code from the `ChatCompletion.create` function is that the variable does not return with quotes. That might be an issue when the variable name in the query combines two or more words. For example, using a variable such as `Case Number` or `Primary Type` from the `chicago_crime` inside a query without using quotes will result in an error."
   ]
  },
  {
   "cell_type": "markdown",
   "id": "ae7b3fb2-34ca-44c0-8418-b5916eefec94",
   "metadata": {},
   "source": [
    "a) Introduce a helper function to wrap all column names in the SQL query returned from `ChatCompletion.create` function in quotes"
   ]
  },
  {
   "cell_type": "code",
   "execution_count": 181,
   "id": "fd01bd3d-5f73-4f97-a4fb-0c3d64086992",
   "metadata": {},
   "outputs": [],
   "source": [
    "import re\n",
    "\n",
    "def add_quotes(query, col_names):\n",
    "    for i in col_names:    \n",
    "        indices = [m.start() for m in re.finditer(i, query)]\n",
    "        count = 0\n",
    "        for y in indices:\n",
    "            x = y + count\n",
    "            if x == 0 or (query[x-1] != \"'\" and query[x-1] != \"\\\"\" and (query[x+len(i)] == \" \" or query[x+len(i)] == \",\" or query[x+len(i)] == \"\\n\") and query[x-1] == \" \"):\n",
    "                count += 2\n",
    "                query = query[:x] + \"\\\"\" + i + \"\\\"\" + query[x + len(i):]\n",
    "        # if i in query:\n",
    "        #     l = query.find(i)\n",
    "        #     print(l)\n",
    "        #     if query[l + len(i)] != \" \" and query[l + len(i)] == \"\n",
    "        #     if query[l-1] != \"'\" and query[l-1] != '\"' and query[l-1] == \" \" and query[l+len(i)] == \" \": \n",
    "        #         query = str(query).replace(i, \"'\" + i + \"'\") \n",
    "\n",
    "    return(query)"
   ]
  },
  {
   "cell_type": "code",
   "execution_count": 174,
   "id": "277f5f24-2e31-4bb2-9026-38813199d31d",
   "metadata": {},
   "outputs": [],
   "source": [
    "sql = '\\nSELECT COUNT(*) AS Arrested_Cases, Case Number\\nFROM chicago_crime\\nWHERE Case Number = 1234;\\n'"
   ]
  },
  {
   "cell_type": "code",
   "execution_count": 182,
   "id": "477ef66a-d778-469e-91e1-914253fb6b29",
   "metadata": {},
   "outputs": [
    {
     "data": {
      "text/plain": [
       "'\\nSELECT COUNT(*) AS Arrested_Cases, \"Case Number\"\\nFROM chicago_crime\\nWHERE \"Case Number\" = 1234;\\n'"
      ]
     },
     "execution_count": 182,
     "metadata": {},
     "output_type": "execute_result"
    }
   ],
   "source": [
    "add_quotes(sql, col_names=prompt.column_names)"
   ]
  },
  {
   "cell_type": "markdown",
   "id": "b68db518-f865-4494-acf8-90854e1be7f0",
   "metadata": {},
   "source": [
    "b) Build the Lang2SQL funtion that stitch all three functions that we have built so far, i.e. `prompt_generation`, `ChatCompletion.create`, and `add_quote` together.  \n",
    "\n",
    "The parameters are: `api_key`, `table_name`, `query`, and some model-related parameters  \n",
    "Returns: returns an object with the prompt, the API response, and the parsed query"
   ]
  },
  {
   "cell_type": "code",
   "execution_count": 107,
   "id": "5f3f72e8-cc5a-431b-8ae1-3ee9b07ce695",
   "metadata": {},
   "outputs": [],
   "source": [
    "def prompt_generator(table_name, user_query):\n",
    "\n",
    "    class message:\n",
    "        def __init__(message, context, user, column_name):\n",
    "            message.context = context\n",
    "            message.user = user\n",
    "            message.column_names = column_name_list\n",
    "    \n",
    "    # Parse the table to extract the first two columns & create a string\n",
    "    table_des = duckdb.sql(\"DESCRIBE SELECT * FROM chicago_crime\")\n",
    "    column_name_list = []\n",
    "    column_name_type_list = []\n",
    "    for i in range(len(table_des.df().column_name)):\n",
    "        column_name = table_des.df().column_name[i]\n",
    "        column_type = table_des.df().column_type[i]\n",
    "        column_name_type = column_name + ' ' + column_type\n",
    "        column_name_type_list.append(column_name_type)\n",
    "        column_name_list.append(column_name)\n",
    "\n",
    "    column_name_type_string = str(column_name_type_list).replace('[','(').replace(']',')').replace(\"\\'\", \"\")\n",
    "\n",
    "    # create context and user string\n",
    "    context = \"\"\"\n",
    "    Given the following SQL tables, your job is to write queries given a user’s request.\n",
    "    CREATE TABLE {} {} \\n\n",
    "    \"\"\".format(table_name, column_name_type_string) \n",
    "    user = \"Write a SQL query that returns {}\".format(user_query)\n",
    "    \n",
    "    prompt = message(context = context, user = user, column_name = column_name)\n",
    "\n",
    "    return prompt"
   ]
  },
  {
   "cell_type": "code",
   "execution_count": 121,
   "id": "f9a883d9-6ef8-4309-bf87-d99c4e03850a",
   "metadata": {},
   "outputs": [],
   "source": [
    "def Lang2SQL(api_key, \n",
    "             table_name, \n",
    "             query, \n",
    "             model = \"gpt-3.5-turbo\", \n",
    "             temperature = 0, \n",
    "             max_tokens = 256, \n",
    "             # frequency_penalty = 0,\n",
    "             # presence_penalty= 0\n",
    "            ):\n",
    "    class response:\n",
    "        def __init__(output, message, response, sql):\n",
    "            output.message = message\n",
    "            output.response = response\n",
    "            output.sql = sql\n",
    "\n",
    "    # API key\n",
    "    openai.api_key = api_key\n",
    "\n",
    "    # prompt_generator: generate prompt based on the table name and the user question\n",
    "    m = prompt_generator(table_name = table_name, user_query = query)\n",
    "\n",
    "    # preparing message to be fed into ChatCompletion.create function\n",
    "    message = [\n",
    "    {\n",
    "      \"role\": \"system\",\n",
    "      \"content\": m.context\n",
    "    },\n",
    "    {\n",
    "      \"role\": \"user\",\n",
    "      \"content\": m.user\n",
    "    }\n",
    "    ]\n",
    "\n",
    "    # sent request to OpenAI API\n",
    "    openai_response = openai.ChatCompletion.create(\n",
    "        model = model,\n",
    "        messages = message,\n",
    "        temperature = temperature,\n",
    "        max_tokens = max_tokens,\n",
    "        # frequency_penalty = frequency_penalty,\n",
    "        # presence_penalty = presence_penalty\n",
    "    )\n",
    "\n",
    "    # parse response to get SQL query\n",
    "    sql_query = add_quotes(query = openai_response[\"choices\"][0][\"message\"][\"content\"][6:-3], col_names = m.column_names)\n",
    "\n",
    "    output = response(message = m, response = openai_response, sql = sql_query)\n",
    "\n",
    "\n",
    "    return output\n",
    "    "
   ]
  },
  {
   "cell_type": "markdown",
   "id": "b10a39cd-43dc-42a1-9f9b-7869a3121537",
   "metadata": {},
   "source": [
    "Now let's test it out! "
   ]
  },
  {
   "cell_type": "code",
   "execution_count": 183,
   "id": "35a02f95-537e-4c3a-8cfe-631d979b0439",
   "metadata": {},
   "outputs": [],
   "source": [
    "query = \"How many cases ended up with arrest?\"\n",
    "response = Lang2SQL(api_key = openai.api_key, table_name = \"chicago_crime\", query = query)"
   ]
  },
  {
   "cell_type": "code",
   "execution_count": 184,
   "id": "b84c175d-e1c0-4311-941e-2f520db86f8f",
   "metadata": {},
   "outputs": [
    {
     "data": {
      "text/plain": [
       "'\\nSELECT COUNT(*) AS Arrested_Cases\\nFROM chicago_crime\\nWHERE \"Arrest\" = TRUE;\\n'"
      ]
     },
     "execution_count": 184,
     "metadata": {},
     "output_type": "execute_result"
    }
   ],
   "source": [
    "response.sql"
   ]
  },
  {
   "cell_type": "code",
   "execution_count": 185,
   "id": "31616a1b-59cb-45df-91ee-3e131baf0ce9",
   "metadata": {},
   "outputs": [
    {
     "name": "stdout",
     "output_type": "stream",
     "text": [
      "┌────────────────┐\n",
      "│ Arrested_Cases │\n",
      "│     int64      │\n",
      "├────────────────┤\n",
      "│          85530 │\n",
      "└────────────────┘\n",
      "\n"
     ]
    }
   ],
   "source": [
    "duckdb.sql(response.sql).show()"
   ]
  },
  {
   "cell_type": "code",
   "execution_count": null,
   "id": "8aae2ecc-019e-4ec5-b57f-9df68373efca",
   "metadata": {},
   "outputs": [],
   "source": []
  },
  {
   "cell_type": "code",
   "execution_count": null,
   "id": "f914cc21-6f97-4353-b1a7-bbd5ad86ffc5",
   "metadata": {},
   "outputs": [],
   "source": []
  }
 ],
 "metadata": {
  "kernelspec": {
   "display_name": "Python 3 (ipykernel)",
   "language": "python",
   "name": "python3"
  },
  "language_info": {
   "codemirror_mode": {
    "name": "ipython",
    "version": 3
   },
   "file_extension": ".py",
   "mimetype": "text/x-python",
   "name": "python",
   "nbconvert_exporter": "python",
   "pygments_lexer": "ipython3",
   "version": "3.9.6"
  }
 },
 "nbformat": 4,
 "nbformat_minor": 5
}
