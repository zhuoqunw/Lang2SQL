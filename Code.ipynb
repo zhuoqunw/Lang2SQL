{
 "cells": [
  {
   "cell_type": "code",
   "execution_count": 7,
   "id": "aa18c61f-1834-4f39-a430-fa42959408a8",
   "metadata": {},
   "outputs": [],
   "source": [
    "import pandas as pd\n",
    "import duckdb\n",
    "import openai\n",
    "import time \n",
    "import os"
   ]
  },
  {
   "cell_type": "markdown",
   "id": "652f403a-20b8-4486-aeb8-17ddcec0598b",
   "metadata": {},
   "source": [
    "# Load in data"
   ]
  },
  {
   "cell_type": "markdown",
   "id": "b24d1d71-f961-4d6d-b696-6ac5cab7d2ae",
   "metadata": {},
   "source": [
    "We use the [Chicago crime dataset](https://data.cityofchicago.org/Public-Safety/Crimes-2001-to-Present/ijzp-q8t2/about_data) from 2021, 2022, and 2023"
   ]
  },
  {
   "cell_type": "code",
   "execution_count": 8,
   "id": "cd204c5c-00d8-461b-b6ff-96caa65d0421",
   "metadata": {},
   "outputs": [
    {
     "name": "stdout",
     "output_type": "stream",
     "text": [
      "['chicago_crime_2021.csv', 'chicago_crime_2022.csv', 'chicago_crime_2023.csv']\n"
     ]
    }
   ],
   "source": [
    "path = \"./data\"\n",
    "files = [x for x in os.listdir(path = path)]\n",
    "print(files)"
   ]
  },
  {
   "cell_type": "code",
   "execution_count": 9,
   "id": "89dd2d44-86b2-4b16-a6d7-b8a56a046a89",
   "metadata": {},
   "outputs": [
    {
     "data": {
      "text/html": [
       "<div>\n",
       "<style scoped>\n",
       "    .dataframe tbody tr th:only-of-type {\n",
       "        vertical-align: middle;\n",
       "    }\n",
       "\n",
       "    .dataframe tbody tr th {\n",
       "        vertical-align: top;\n",
       "    }\n",
       "\n",
       "    .dataframe thead th {\n",
       "        text-align: right;\n",
       "    }\n",
       "</style>\n",
       "<table border=\"1\" class=\"dataframe\">\n",
       "  <thead>\n",
       "    <tr style=\"text-align: right;\">\n",
       "      <th></th>\n",
       "      <th>ID</th>\n",
       "      <th>Case Number</th>\n",
       "      <th>Date</th>\n",
       "      <th>Block</th>\n",
       "      <th>IUCR</th>\n",
       "      <th>Primary Type</th>\n",
       "      <th>Description</th>\n",
       "      <th>Location Description</th>\n",
       "      <th>Arrest</th>\n",
       "      <th>Domestic</th>\n",
       "      <th>...</th>\n",
       "      <th>Ward</th>\n",
       "      <th>Community Area</th>\n",
       "      <th>FBI Code</th>\n",
       "      <th>X Coordinate</th>\n",
       "      <th>Y Coordinate</th>\n",
       "      <th>Year</th>\n",
       "      <th>Updated On</th>\n",
       "      <th>Latitude</th>\n",
       "      <th>Longitude</th>\n",
       "      <th>Location</th>\n",
       "    </tr>\n",
       "  </thead>\n",
       "  <tbody>\n",
       "    <tr>\n",
       "      <th>0</th>\n",
       "      <td>25953</td>\n",
       "      <td>JE240540</td>\n",
       "      <td>05/24/2021 03:06:00 PM</td>\n",
       "      <td>020XX N LARAMIE AVE</td>\n",
       "      <td>0110</td>\n",
       "      <td>HOMICIDE</td>\n",
       "      <td>FIRST DEGREE MURDER</td>\n",
       "      <td>STREET</td>\n",
       "      <td>True</td>\n",
       "      <td>False</td>\n",
       "      <td>...</td>\n",
       "      <td>36.0</td>\n",
       "      <td>19</td>\n",
       "      <td>01A</td>\n",
       "      <td>1141387.0</td>\n",
       "      <td>1913179.0</td>\n",
       "      <td>2021</td>\n",
       "      <td>11/18/2023 03:39:49 PM</td>\n",
       "      <td>41.917838</td>\n",
       "      <td>-87.755969</td>\n",
       "      <td>(41.917838056, -87.755968972)</td>\n",
       "    </tr>\n",
       "    <tr>\n",
       "      <th>1</th>\n",
       "      <td>26038</td>\n",
       "      <td>JE279849</td>\n",
       "      <td>06/26/2021 09:24:00 AM</td>\n",
       "      <td>062XX N MC CORMICK RD</td>\n",
       "      <td>0110</td>\n",
       "      <td>HOMICIDE</td>\n",
       "      <td>FIRST DEGREE MURDER</td>\n",
       "      <td>PARKING LOT</td>\n",
       "      <td>True</td>\n",
       "      <td>False</td>\n",
       "      <td>...</td>\n",
       "      <td>50.0</td>\n",
       "      <td>13</td>\n",
       "      <td>01A</td>\n",
       "      <td>1152781.0</td>\n",
       "      <td>1941458.0</td>\n",
       "      <td>2021</td>\n",
       "      <td>11/18/2023 03:39:49 PM</td>\n",
       "      <td>41.995219</td>\n",
       "      <td>-87.713355</td>\n",
       "      <td>(41.995219444, -87.713354912)</td>\n",
       "    </tr>\n",
       "    <tr>\n",
       "      <th>2</th>\n",
       "      <td>12342615</td>\n",
       "      <td>JE202211</td>\n",
       "      <td>04/17/2021 03:20:00 PM</td>\n",
       "      <td>081XX S PRAIRIE AVE</td>\n",
       "      <td>0325</td>\n",
       "      <td>ROBBERY</td>\n",
       "      <td>VEHICULAR HIJACKING</td>\n",
       "      <td>RESIDENCE</td>\n",
       "      <td>True</td>\n",
       "      <td>False</td>\n",
       "      <td>...</td>\n",
       "      <td>6.0</td>\n",
       "      <td>44</td>\n",
       "      <td>03</td>\n",
       "      <td>1179448.0</td>\n",
       "      <td>1851073.0</td>\n",
       "      <td>2021</td>\n",
       "      <td>09/14/2023 03:41:59 PM</td>\n",
       "      <td>41.746626</td>\n",
       "      <td>-87.618032</td>\n",
       "      <td>(41.746626309, -87.618031954)</td>\n",
       "    </tr>\n",
       "    <tr>\n",
       "      <th>3</th>\n",
       "      <td>26262</td>\n",
       "      <td>JE366265</td>\n",
       "      <td>09/08/2021 04:45:00 PM</td>\n",
       "      <td>047XX W HARRISON ST</td>\n",
       "      <td>0110</td>\n",
       "      <td>HOMICIDE</td>\n",
       "      <td>FIRST DEGREE MURDER</td>\n",
       "      <td>CAR WASH</td>\n",
       "      <td>True</td>\n",
       "      <td>False</td>\n",
       "      <td>...</td>\n",
       "      <td>24.0</td>\n",
       "      <td>25</td>\n",
       "      <td>01A</td>\n",
       "      <td>1144907.0</td>\n",
       "      <td>1896933.0</td>\n",
       "      <td>2021</td>\n",
       "      <td>09/14/2023 03:41:59 PM</td>\n",
       "      <td>41.873191</td>\n",
       "      <td>-87.743447</td>\n",
       "      <td>(41.873191445, -87.743446563)</td>\n",
       "    </tr>\n",
       "    <tr>\n",
       "      <th>4</th>\n",
       "      <td>13209581</td>\n",
       "      <td>JG422927</td>\n",
       "      <td>08/01/2021 12:00:00 AM</td>\n",
       "      <td>012XX E 78TH ST</td>\n",
       "      <td>1563</td>\n",
       "      <td>SEX OFFENSE</td>\n",
       "      <td>CRIMINAL SEXUAL ABUSE</td>\n",
       "      <td>APARTMENT</td>\n",
       "      <td>False</td>\n",
       "      <td>False</td>\n",
       "      <td>...</td>\n",
       "      <td>8.0</td>\n",
       "      <td>45</td>\n",
       "      <td>17</td>\n",
       "      <td>NaN</td>\n",
       "      <td>NaN</td>\n",
       "      <td>2021</td>\n",
       "      <td>09/14/2023 03:43:09 PM</td>\n",
       "      <td>NaN</td>\n",
       "      <td>NaN</td>\n",
       "      <td>NaN</td>\n",
       "    </tr>\n",
       "  </tbody>\n",
       "</table>\n",
       "<p>5 rows × 22 columns</p>\n",
       "</div>"
      ],
      "text/plain": [
       "         ID Case Number                    Date                  Block  IUCR   \n",
       "0     25953    JE240540  05/24/2021 03:06:00 PM    020XX N LARAMIE AVE  0110  \\\n",
       "1     26038    JE279849  06/26/2021 09:24:00 AM  062XX N MC CORMICK RD  0110   \n",
       "2  12342615    JE202211  04/17/2021 03:20:00 PM    081XX S PRAIRIE AVE  0325   \n",
       "3     26262    JE366265  09/08/2021 04:45:00 PM    047XX W HARRISON ST  0110   \n",
       "4  13209581    JG422927  08/01/2021 12:00:00 AM        012XX E 78TH ST  1563   \n",
       "\n",
       "  Primary Type            Description Location Description  Arrest  Domestic   \n",
       "0     HOMICIDE    FIRST DEGREE MURDER               STREET    True     False  \\\n",
       "1     HOMICIDE    FIRST DEGREE MURDER          PARKING LOT    True     False   \n",
       "2      ROBBERY    VEHICULAR HIJACKING            RESIDENCE    True     False   \n",
       "3     HOMICIDE    FIRST DEGREE MURDER             CAR WASH    True     False   \n",
       "4  SEX OFFENSE  CRIMINAL SEXUAL ABUSE            APARTMENT   False     False   \n",
       "\n",
       "   ...  Ward  Community Area  FBI Code  X Coordinate Y Coordinate  Year   \n",
       "0  ...  36.0              19       01A     1141387.0    1913179.0  2021  \\\n",
       "1  ...  50.0              13       01A     1152781.0    1941458.0  2021   \n",
       "2  ...   6.0              44        03     1179448.0    1851073.0  2021   \n",
       "3  ...  24.0              25       01A     1144907.0    1896933.0  2021   \n",
       "4  ...   8.0              45        17           NaN          NaN  2021   \n",
       "\n",
       "               Updated On   Latitude  Longitude                       Location  \n",
       "0  11/18/2023 03:39:49 PM  41.917838 -87.755969  (41.917838056, -87.755968972)  \n",
       "1  11/18/2023 03:39:49 PM  41.995219 -87.713355  (41.995219444, -87.713354912)  \n",
       "2  09/14/2023 03:41:59 PM  41.746626 -87.618032  (41.746626309, -87.618031954)  \n",
       "3  09/14/2023 03:41:59 PM  41.873191 -87.743447  (41.873191445, -87.743446563)  \n",
       "4  09/14/2023 03:43:09 PM        NaN        NaN                            NaN  \n",
       "\n",
       "[5 rows x 22 columns]"
      ]
     },
     "execution_count": 9,
     "metadata": {},
     "output_type": "execute_result"
    }
   ],
   "source": [
    "# read in and concat data \n",
    "chicago_crime = pd.concat((pd.read_csv(path +\"/\" + f) for f in files), ignore_index=True)\n",
    "\n",
    "# chicago_crime.shape #(709386, 22)\n",
    "chicago_crime.head()"
   ]
  },
  {
   "cell_type": "markdown",
   "id": "53057ff3-8954-47ed-9392-8dc20c52646e",
   "metadata": {},
   "source": [
    "# Prompt Engineering"
   ]
  },
  {
   "cell_type": "markdown",
   "id": "af6bbeed-c67d-45fc-803d-1692ce34c5cf",
   "metadata": {},
   "source": [
    "The OpenAI API documentation provides a [recommendation](https://platform.openai.com/examples/default-sql-translate) for how to set the system and user components in a prompt when requesting to generate an SQL code:  \n",
    "For context, \n",
    "* `system` is the context, e.g. \"Given the following SQL tables, your job is to write queries given a user’s request.\"  \n",
    "```\n",
    "CREATE TABLE Orders (\n",
    "  OrderID int,\n",
    "  CustomerID int,\n",
    "  OrderDate datetime,\n",
    "  OrderTime varchar(8),\n",
    "  PRIMARY KEY (OrderID)\n",
    ");\n",
    "...\n",
    "```\n",
    "* `user` is the request, e.g. \"Write a SQL query which computes the average total order value for all orders on 2023-04-01.\""
   ]
  },
  {
   "cell_type": "markdown",
   "id": "876c3c05-2dbc-4098-87e5-87e57660c236",
   "metadata": {},
   "source": [
    "### Step 1: Create a function `prompt_generator(table_name, query)` that generates the system and user prompts like the example above.\n",
    "* Parameters:\n",
    "1. table name\n",
    "2. user query request\n",
    "* Output:\n",
    "completed system and user prompt messages"
   ]
  },
  {
   "cell_type": "markdown",
   "id": "b0c866da-8f45-4070-b20f-9b2acc8b8e5c",
   "metadata": {},
   "source": [
    "Use the `DuckDB` library to handle the pandas' df as it was a SQL table and extract its column names and types. "
   ]
  },
  {
   "cell_type": "code",
   "execution_count": 13,
   "id": "a17026de-0476-4587-a4d6-2c91b86a35a9",
   "metadata": {},
   "outputs": [
    {
     "data": {
      "text/plain": [
       "┌──────────────────────┬─────────────┬─────────┬─────────┬─────────┬─────────┐\n",
       "│     column_name      │ column_type │  null   │   key   │ default │  extra  │\n",
       "│       varchar        │   varchar   │ varchar │ varchar │ varchar │ varchar │\n",
       "├──────────────────────┼─────────────┼─────────┼─────────┼─────────┼─────────┤\n",
       "│ ID                   │ BIGINT      │ YES     │ NULL    │ NULL    │ NULL    │\n",
       "│ Case Number          │ VARCHAR     │ YES     │ NULL    │ NULL    │ NULL    │\n",
       "│ Date                 │ VARCHAR     │ YES     │ NULL    │ NULL    │ NULL    │\n",
       "│ Block                │ VARCHAR     │ YES     │ NULL    │ NULL    │ NULL    │\n",
       "│ IUCR                 │ VARCHAR     │ YES     │ NULL    │ NULL    │ NULL    │\n",
       "│ Primary Type         │ VARCHAR     │ YES     │ NULL    │ NULL    │ NULL    │\n",
       "│ Description          │ VARCHAR     │ YES     │ NULL    │ NULL    │ NULL    │\n",
       "│ Location Description │ VARCHAR     │ YES     │ NULL    │ NULL    │ NULL    │\n",
       "│ Arrest               │ BOOLEAN     │ YES     │ NULL    │ NULL    │ NULL    │\n",
       "│ Domestic             │ BOOLEAN     │ YES     │ NULL    │ NULL    │ NULL    │\n",
       "│ Beat                 │ BIGINT      │ YES     │ NULL    │ NULL    │ NULL    │\n",
       "│ District             │ BIGINT      │ YES     │ NULL    │ NULL    │ NULL    │\n",
       "│ Ward                 │ DOUBLE      │ YES     │ NULL    │ NULL    │ NULL    │\n",
       "│ Community Area       │ BIGINT      │ YES     │ NULL    │ NULL    │ NULL    │\n",
       "│ FBI Code             │ VARCHAR     │ YES     │ NULL    │ NULL    │ NULL    │\n",
       "│ X Coordinate         │ DOUBLE      │ YES     │ NULL    │ NULL    │ NULL    │\n",
       "│ Y Coordinate         │ DOUBLE      │ YES     │ NULL    │ NULL    │ NULL    │\n",
       "│ Year                 │ BIGINT      │ YES     │ NULL    │ NULL    │ NULL    │\n",
       "│ Updated On           │ VARCHAR     │ YES     │ NULL    │ NULL    │ NULL    │\n",
       "│ Latitude             │ DOUBLE      │ YES     │ NULL    │ NULL    │ NULL    │\n",
       "│ Longitude            │ DOUBLE      │ YES     │ NULL    │ NULL    │ NULL    │\n",
       "│ Location             │ VARCHAR     │ YES     │ NULL    │ NULL    │ NULL    │\n",
       "├──────────────────────┴─────────────┴─────────┴─────────┴─────────┴─────────┤\n",
       "│ 22 rows                                                          6 columns │\n",
       "└────────────────────────────────────────────────────────────────────────────┘"
      ]
     },
     "execution_count": 13,
     "metadata": {},
     "output_type": "execute_result"
    }
   ],
   "source": [
    "# Extract info\n",
    "duckdb.sql(\"DESCRIBE SELECT * FROM chicago_crime\")"
   ]
  },
  {
   "cell_type": "code",
   "execution_count": 141,
   "id": "92b24ef8-b07d-420f-a684-6a83a6ffea2a",
   "metadata": {},
   "outputs": [],
   "source": [
    "def prompt_generator(table_name, user_query):\n",
    "\n",
    "    class message:\n",
    "        def __init__(message, context, user):\n",
    "            message.context = context\n",
    "            message.user = user\n",
    "    \n",
    "    # Parse the table to extract the first two columns & create a string\n",
    "    table_des = duckdb.sql(\"DESCRIBE SELECT * FROM chicago_crime\")\n",
    "    column_name_type_list = []\n",
    "    for i in range(len(table_des.df().column_name)):\n",
    "        column_name = table_des.df().column_name[i]\n",
    "        column_type = table_des.df().column_type[i]\n",
    "        column_name_type = column_name + ' ' + column_type\n",
    "        column_name_type_list.append(column_name_type)\n",
    "\n",
    "    column_name_type_string = str(column_name_type_list).replace('[','(').replace(']',')').replace(\"\\'\", \"\")\n",
    "\n",
    "    # create context and user string\n",
    "    context = \"\"\"\n",
    "    Given the following SQL tables, your job is to write queries given a user’s request.\n",
    "    CREATE TABLE {} {} \\n\n",
    "    \"\"\".format(table_name, column_name_type_string) \n",
    "    user = \"Write a SQL query that returns: {}\".format(user_query)\n",
    "    \n",
    "    prompt = message(context = context, user = user)\n",
    "\n",
    "    return prompt"
   ]
  },
  {
   "cell_type": "code",
   "execution_count": 143,
   "id": "e4ca5c9b-301e-4687-8937-0398009e5b17",
   "metadata": {},
   "outputs": [
    {
     "name": "stdout",
     "output_type": "stream",
     "text": [
      "Write a SQL query that returns: Returns the number of cases in each year, order by year in the ascending order.\n"
     ]
    }
   ],
   "source": [
    "table_name = \"chicago_crime\"\n",
    "user_query = \"Returns the number of cases in each year, order by year in the ascending order.\"\n",
    "\n",
    "print(prompt_generator(table_name, user_query).user)"
   ]
  },
  {
   "cell_type": "code",
   "execution_count": null,
   "id": "e5bd9afa-5e65-43cd-b364-8cd8ebb0d68c",
   "metadata": {},
   "outputs": [],
   "source": []
  },
  {
   "cell_type": "markdown",
   "id": "bc3030ab-ff9f-45b6-b22c-feb5b6ec3af4",
   "metadata": {},
   "source": [
    "## Step2: Interact with the OpenAI API"
   ]
  },
  {
   "cell_type": "code",
   "execution_count": null,
   "id": "cddd337c-c7eb-4ad1-a4fa-d1478569cccf",
   "metadata": {},
   "outputs": [],
   "source": []
  },
  {
   "cell_type": "code",
   "execution_count": null,
   "id": "749f06a7-92b6-4bbe-92e4-365f7cf1749f",
   "metadata": {},
   "outputs": [],
   "source": []
  },
  {
   "cell_type": "code",
   "execution_count": null,
   "id": "7b61f8a4-d90a-4704-9124-edd093f9f4b1",
   "metadata": {},
   "outputs": [],
   "source": []
  },
  {
   "cell_type": "code",
   "execution_count": null,
   "id": "9b99c847-bc93-4a62-b147-e6adf66d0020",
   "metadata": {},
   "outputs": [],
   "source": []
  },
  {
   "cell_type": "code",
   "execution_count": null,
   "id": "e24872ad-9517-44ce-bae4-3b864200e711",
   "metadata": {},
   "outputs": [],
   "source": []
  },
  {
   "cell_type": "code",
   "execution_count": null,
   "id": "b6ee5c6a-16ba-455b-a621-c2093cffbb1f",
   "metadata": {},
   "outputs": [],
   "source": []
  },
  {
   "cell_type": "code",
   "execution_count": null,
   "id": "dcba3394-1642-4765-8b6f-ba5cb6bb5cad",
   "metadata": {},
   "outputs": [],
   "source": []
  }
 ],
 "metadata": {
  "kernelspec": {
   "display_name": "Python 3 (ipykernel)",
   "language": "python",
   "name": "python3"
  },
  "language_info": {
   "codemirror_mode": {
    "name": "ipython",
    "version": 3
   },
   "file_extension": ".py",
   "mimetype": "text/x-python",
   "name": "python",
   "nbconvert_exporter": "python",
   "pygments_lexer": "ipython3",
   "version": "3.10.13"
  }
 },
 "nbformat": 4,
 "nbformat_minor": 5
}
